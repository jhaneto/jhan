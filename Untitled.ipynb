{
 "cells": [
  {
   "cell_type": "code",
   "execution_count": 10,
   "id": "504d7205",
   "metadata": {
    "ExecuteTime": {
     "end_time": "2021-08-17T17:26:30.212561Z",
     "start_time": "2021-08-17T17:26:30.196570Z"
    }
   },
   "outputs": [],
   "source": [
    "def fat(n):\n",
    "    if (n == 0):\n",
    "        return 1\n",
    "    return (n * fat(n-1))\n"
   ]
  },
  {
   "cell_type": "code",
   "execution_count": 12,
   "id": "92ee1c1a",
   "metadata": {
    "ExecuteTime": {
     "end_time": "2021-08-17T17:27:03.638607Z",
     "start_time": "2021-08-17T17:27:03.616619Z"
    }
   },
   "outputs": [
    {
     "name": "stdout",
     "output_type": "stream",
     "text": [
      "120\n"
     ]
    }
   ],
   "source": [
    "print(fat(5))"
   ]
  },
  {
   "cell_type": "code",
   "execution_count": 17,
   "id": "3375f990",
   "metadata": {
    "ExecuteTime": {
     "end_time": "2021-08-17T17:29:26.784957Z",
     "start_time": "2021-08-17T17:29:26.763967Z"
    }
   },
   "outputs": [],
   "source": [
    "fat_lambda = lambda n: n * fat(n - 1) if n > 1 else 1"
   ]
  },
  {
   "cell_type": "code",
   "execution_count": 20,
   "id": "b252cf4a",
   "metadata": {
    "ExecuteTime": {
     "end_time": "2021-08-17T17:41:46.833376Z",
     "start_time": "2021-08-17T17:41:46.814387Z"
    }
   },
   "outputs": [
    {
     "name": "stdout",
     "output_type": "stream",
     "text": [
      "120\n"
     ]
    }
   ],
   "source": [
    "print(fat_lambda(5))"
   ]
  },
  {
   "cell_type": "code",
   "execution_count": 21,
   "id": "ad9df65e",
   "metadata": {
    "ExecuteTime": {
     "end_time": "2021-08-17T17:41:53.224448Z",
     "start_time": "2021-08-17T17:41:53.200462Z"
    }
   },
   "outputs": [],
   "source": [
    "#map"
   ]
  },
  {
   "cell_type": "code",
   "execution_count": 23,
   "id": "11b21858",
   "metadata": {
    "ExecuteTime": {
     "end_time": "2021-08-17T17:43:28.493799Z",
     "start_time": "2021-08-17T17:43:28.475810Z"
    }
   },
   "outputs": [
    {
     "name": "stdout",
     "output_type": "stream",
     "text": [
      "1\n",
      "4\n",
      "9\n"
     ]
    }
   ],
   "source": [
    "lista = [1,2,3]\n",
    "m = map(lambda x: x**2, lista)\n",
    "for i in m:\n",
    "    print(i)"
   ]
  },
  {
   "cell_type": "code",
   "execution_count": 25,
   "id": "7c290343",
   "metadata": {
    "ExecuteTime": {
     "end_time": "2021-08-17T17:44:09.964828Z",
     "start_time": "2021-08-17T17:44:09.944835Z"
    }
   },
   "outputs": [],
   "source": [
    "#Reduce\n",
    "import functools"
   ]
  },
  {
   "cell_type": "code",
   "execution_count": 27,
   "id": "2122c49d",
   "metadata": {
    "ExecuteTime": {
     "end_time": "2021-08-17T17:45:11.619296Z",
     "start_time": "2021-08-17T17:45:11.596310Z"
    }
   },
   "outputs": [
    {
     "name": "stdout",
     "output_type": "stream",
     "text": [
      "10\n"
     ]
    }
   ],
   "source": [
    "print(functools.reduce(lambda x,y: x+y, [1,2,3,4]))"
   ]
  },
  {
   "cell_type": "code",
   "execution_count": 28,
   "id": "101b2c69",
   "metadata": {
    "ExecuteTime": {
     "end_time": "2021-08-17T17:45:37.721077Z",
     "start_time": "2021-08-17T17:45:37.702086Z"
    }
   },
   "outputs": [],
   "source": [
    "#Filter"
   ]
  },
  {
   "cell_type": "code",
   "execution_count": 29,
   "id": "127ee6f5",
   "metadata": {
    "ExecuteTime": {
     "end_time": "2021-08-17T17:47:54.756589Z",
     "start_time": "2021-08-17T17:47:54.739602Z"
    }
   },
   "outputs": [
    {
     "name": "stdout",
     "output_type": "stream",
     "text": [
      "0\n",
      "2\n",
      "4\n",
      "6\n",
      "8\n"
     ]
    }
   ],
   "source": [
    "f = filter(lambda x: x%2 == 0, range(10))\n",
    "for i in f:\n",
    "    print(i)"
   ]
  },
  {
   "cell_type": "code",
   "execution_count": 31,
   "id": "b8033817",
   "metadata": {
    "ExecuteTime": {
     "end_time": "2021-08-17T17:59:46.086626Z",
     "start_time": "2021-08-17T17:59:46.069637Z"
    }
   },
   "outputs": [
    {
     "name": "stdout",
     "output_type": "stream",
     "text": [
      "13\n"
     ]
    }
   ],
   "source": [
    "def fib(n):\n",
    "    if(n == 1 or n == 2):\n",
    "        return 1\n",
    "    return fib(n-1) + fib(n-2)\n",
    "\n",
    "print(fib(7))"
   ]
  },
  {
   "cell_type": "code",
   "execution_count": 33,
   "id": "6a981677",
   "metadata": {
    "ExecuteTime": {
     "end_time": "2021-08-17T18:05:24.130869Z",
     "start_time": "2021-08-17T18:05:24.114881Z"
    }
   },
   "outputs": [
    {
     "name": "stdout",
     "output_type": "stream",
     "text": [
      "100\n"
     ]
    }
   ],
   "source": [
    "def pot(base, exp):\n",
    "    if(exp == 0):\n",
    "        return 1\n",
    "    return base * pot(base, exp -1)\n",
    "\n",
    "print(pot(10,2))"
   ]
  },
  {
   "cell_type": "code",
   "execution_count": null,
   "id": "c0f223ed",
   "metadata": {},
   "outputs": [],
   "source": []
  }
 ],
 "metadata": {
  "kernelspec": {
   "display_name": "Python 3",
   "language": "python",
   "name": "python3"
  },
  "language_info": {
   "codemirror_mode": {
    "name": "ipython",
    "version": 3
   },
   "file_extension": ".py",
   "mimetype": "text/x-python",
   "name": "python",
   "nbconvert_exporter": "python",
   "pygments_lexer": "ipython3",
   "version": "3.8.3"
  },
  "toc": {
   "base_numbering": 1,
   "nav_menu": {},
   "number_sections": true,
   "sideBar": true,
   "skip_h1_title": false,
   "title_cell": "Table of Contents",
   "title_sidebar": "Contents",
   "toc_cell": false,
   "toc_position": {},
   "toc_section_display": true,
   "toc_window_display": false
  }
 },
 "nbformat": 4,
 "nbformat_minor": 5
}
