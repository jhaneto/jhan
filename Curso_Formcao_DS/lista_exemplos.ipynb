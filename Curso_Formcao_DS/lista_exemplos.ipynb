{
 "cells": [
  {
   "cell_type": "code",
   "execution_count": 2,
   "id": "4f5d03d2",
   "metadata": {
    "ExecuteTime": {
     "end_time": "2021-10-23T13:00:39.442323Z",
     "start_time": "2021-10-23T13:00:39.424547Z"
    }
   },
   "outputs": [],
   "source": [
    "class Pessoa:\n",
    "   def __init__(self, nome, idade = 0):\n",
    "              self.nome = nome\n",
    "              self.idade = idade\n",
    "              \n",
    "   def getNome(self):    \n",
    "      return self.nome \n",
    "  \n",
    "   def getIdade(self):      \n",
    "      return self.idade \n",
    "  \n",
    "   def setNome(self, nome):\n",
    "       self.nome = nome\n",
    "       \n",
    "   def setIdade(self, idade):\n",
    "       self.idade = idade\n"
   ]
  },
  {
   "cell_type": "code",
   "execution_count": 8,
   "id": "1eefb622",
   "metadata": {
    "ExecuteTime": {
     "end_time": "2021-10-23T13:03:08.766673Z",
     "start_time": "2021-10-23T13:03:08.749678Z"
    }
   },
   "outputs": [],
   "source": [
    "p = Pessoa('Almeida', 10)"
   ]
  },
  {
   "cell_type": "code",
   "execution_count": 10,
   "id": "55f4c70d",
   "metadata": {
    "ExecuteTime": {
     "end_time": "2021-10-23T13:05:07.259263Z",
     "start_time": "2021-10-23T13:05:07.231281Z"
    }
   },
   "outputs": [
    {
     "data": {
      "text/plain": [
       "'Almeida'"
      ]
     },
     "execution_count": 10,
     "metadata": {},
     "output_type": "execute_result"
    }
   ],
   "source": [
    "p.getNome()\n"
   ]
  },
  {
   "cell_type": "code",
   "execution_count": 11,
   "id": "9c1dfa3f",
   "metadata": {
    "ExecuteTime": {
     "end_time": "2021-10-23T13:05:10.660013Z",
     "start_time": "2021-10-23T13:05:10.637027Z"
    }
   },
   "outputs": [
    {
     "data": {
      "text/plain": [
       "10"
      ]
     },
     "execution_count": 11,
     "metadata": {},
     "output_type": "execute_result"
    }
   ],
   "source": [
    "p.getIdade()"
   ]
  },
  {
   "cell_type": "code",
   "execution_count": 113,
   "id": "0be796f1",
   "metadata": {
    "ExecuteTime": {
     "end_time": "2021-10-23T15:15:23.984948Z",
     "start_time": "2021-10-23T15:15:23.961962Z"
    }
   },
   "outputs": [],
   "source": [
    "n = list(range(10))\n",
    "x = list(range(20))"
   ]
  },
  {
   "cell_type": "code",
   "execution_count": 43,
   "id": "0a6fa6ce",
   "metadata": {
    "ExecuteTime": {
     "end_time": "2021-10-23T13:26:02.768840Z",
     "start_time": "2021-10-23T13:26:02.750851Z"
    }
   },
   "outputs": [
    {
     "name": "stdout",
     "output_type": "stream",
     "text": [
      "[0, 1, 2, 3, 4, 5, 6, 7, 8, 9]\n",
      "[0, 1, 2, 3, 4, 5, 6, 7, 8, 9]\n",
      "[0, 1, 2, 3, 4, 5, 6, 7, 8, 9]\n",
      "[0, 1, 2, 3, 4, 5, 6, 7, 8, 9]\n",
      "[0, 1, 2, 3, 4, 5, 6, 7, 8, 9]\n",
      "[0, 1, 2, 3, 4, 5, 6, 7, 8, 9]\n",
      "[0, 1, 2, 3, 4, 5, 6, 7, 8, 9]\n",
      "[0, 1, 2, 3, 4, 5, 6, 7, 8, 9]\n",
      "[0, 1, 2, 3, 4, 5, 6, 7, 8, 9]\n",
      "[0, 1, 2, 3, 4, 5, 6, 7, 8, 9]\n"
     ]
    }
   ],
   "source": []
  },
  {
   "cell_type": "code",
   "execution_count": 51,
   "id": "687c2f32",
   "metadata": {
    "ExecuteTime": {
     "end_time": "2021-10-23T13:29:18.676694Z",
     "start_time": "2021-10-23T13:29:18.655702Z"
    }
   },
   "outputs": [],
   "source": [
    "import itertools as z"
   ]
  },
  {
   "cell_type": "code",
   "execution_count": 54,
   "id": "306f9537",
   "metadata": {
    "ExecuteTime": {
     "end_time": "2021-10-23T13:31:04.087197Z",
     "start_time": "2021-10-23T13:31:04.062214Z"
    }
   },
   "outputs": [
    {
     "name": "stdout",
     "output_type": "stream",
     "text": [
      "[0, 1, 2, 3, 4, 5, 6, 7, 8, 9] [0, 1, 2, 3, 4, 5, 6, 7, 8, 9, 10, 11, 12, 13, 14, 15, 16, 17, 18, 19]\n",
      "[0, 1, 2, 3, 4, 5, 6, 7, 8, 9] [0, 1, 2, 3, 4, 5, 6, 7, 8, 9, 10, 11, 12, 13, 14, 15, 16, 17, 18, 19]\n",
      "[0, 1, 2, 3, 4, 5, 6, 7, 8, 9] [0, 1, 2, 3, 4, 5, 6, 7, 8, 9, 10, 11, 12, 13, 14, 15, 16, 17, 18, 19]\n",
      "[0, 1, 2, 3, 4, 5, 6, 7, 8, 9] [0, 1, 2, 3, 4, 5, 6, 7, 8, 9, 10, 11, 12, 13, 14, 15, 16, 17, 18, 19]\n",
      "[0, 1, 2, 3, 4, 5, 6, 7, 8, 9] [0, 1, 2, 3, 4, 5, 6, 7, 8, 9, 10, 11, 12, 13, 14, 15, 16, 17, 18, 19]\n",
      "[0, 1, 2, 3, 4, 5, 6, 7, 8, 9] [0, 1, 2, 3, 4, 5, 6, 7, 8, 9, 10, 11, 12, 13, 14, 15, 16, 17, 18, 19]\n",
      "[0, 1, 2, 3, 4, 5, 6, 7, 8, 9] [0, 1, 2, 3, 4, 5, 6, 7, 8, 9, 10, 11, 12, 13, 14, 15, 16, 17, 18, 19]\n",
      "[0, 1, 2, 3, 4, 5, 6, 7, 8, 9] [0, 1, 2, 3, 4, 5, 6, 7, 8, 9, 10, 11, 12, 13, 14, 15, 16, 17, 18, 19]\n",
      "[0, 1, 2, 3, 4, 5, 6, 7, 8, 9] [0, 1, 2, 3, 4, 5, 6, 7, 8, 9, 10, 11, 12, 13, 14, 15, 16, 17, 18, 19]\n",
      "[0, 1, 2, 3, 4, 5, 6, 7, 8, 9] [0, 1, 2, 3, 4, 5, 6, 7, 8, 9, 10, 11, 12, 13, 14, 15, 16, 17, 18, 19]\n"
     ]
    }
   ],
   "source": [
    "for i, j in zip(n,x):\n",
    "    print(n,x)"
   ]
  },
  {
   "cell_type": "code",
   "execution_count": 57,
   "id": "8c8c330a",
   "metadata": {
    "ExecuteTime": {
     "end_time": "2021-10-23T13:35:55.909601Z",
     "start_time": "2021-10-23T13:35:55.886615Z"
    }
   },
   "outputs": [
    {
     "name": "stdout",
     "output_type": "stream",
     "text": [
      "[0, 1, 2, 3, 4, 5, 6, 7, 8, 9] [0, 1, 2, 3, 4, 5, 6, 7, 8, 9, 10, 11, 12, 13, 14, 15, 16, 17, 18, 19]\n",
      "[0, 1, 2, 3, 4, 5, 6, 7, 8, 9] [0, 1, 2, 3, 4, 5, 6, 7, 8, 9, 10, 11, 12, 13, 14, 15, 16, 17, 18, 19]\n",
      "[0, 1, 2, 3, 4, 5, 6, 7, 8, 9] [0, 1, 2, 3, 4, 5, 6, 7, 8, 9, 10, 11, 12, 13, 14, 15, 16, 17, 18, 19]\n",
      "[0, 1, 2, 3, 4, 5, 6, 7, 8, 9] [0, 1, 2, 3, 4, 5, 6, 7, 8, 9, 10, 11, 12, 13, 14, 15, 16, 17, 18, 19]\n",
      "[0, 1, 2, 3, 4, 5, 6, 7, 8, 9] [0, 1, 2, 3, 4, 5, 6, 7, 8, 9, 10, 11, 12, 13, 14, 15, 16, 17, 18, 19]\n",
      "[0, 1, 2, 3, 4, 5, 6, 7, 8, 9] [0, 1, 2, 3, 4, 5, 6, 7, 8, 9, 10, 11, 12, 13, 14, 15, 16, 17, 18, 19]\n",
      "[0, 1, 2, 3, 4, 5, 6, 7, 8, 9] [0, 1, 2, 3, 4, 5, 6, 7, 8, 9, 10, 11, 12, 13, 14, 15, 16, 17, 18, 19]\n",
      "[0, 1, 2, 3, 4, 5, 6, 7, 8, 9] [0, 1, 2, 3, 4, 5, 6, 7, 8, 9, 10, 11, 12, 13, 14, 15, 16, 17, 18, 19]\n",
      "[0, 1, 2, 3, 4, 5, 6, 7, 8, 9] [0, 1, 2, 3, 4, 5, 6, 7, 8, 9, 10, 11, 12, 13, 14, 15, 16, 17, 18, 19]\n",
      "[0, 1, 2, 3, 4, 5, 6, 7, 8, 9] [0, 1, 2, 3, 4, 5, 6, 7, 8, 9, 10, 11, 12, 13, 14, 15, 16, 17, 18, 19]\n"
     ]
    }
   ],
   "source": [
    "for i, j in zip(n, x):\n",
    "    print(n,x)"
   ]
  },
  {
   "cell_type": "code",
   "execution_count": 106,
   "id": "7963e692",
   "metadata": {
    "ExecuteTime": {
     "end_time": "2021-10-23T15:12:46.040352Z",
     "start_time": "2021-10-23T15:12:46.013363Z"
    }
   },
   "outputs": [
    {
     "data": {
      "text/plain": [
       "45"
      ]
     },
     "execution_count": 106,
     "metadata": {},
     "output_type": "execute_result"
    }
   ],
   "source": [
    "sum(n)"
   ]
  },
  {
   "cell_type": "code",
   "execution_count": 114,
   "id": "ef4cb4e0",
   "metadata": {
    "ExecuteTime": {
     "end_time": "2021-10-23T15:15:38.452151Z",
     "start_time": "2021-10-23T15:15:38.439190Z"
    }
   },
   "outputs": [
    {
     "data": {
      "text/plain": [
       "9.5"
      ]
     },
     "execution_count": 114,
     "metadata": {},
     "output_type": "execute_result"
    }
   ],
   "source": [
    "media = sum(x) / len(x)\n",
    "media"
   ]
  },
  {
   "cell_type": "code",
   "execution_count": 102,
   "id": "11cfddd5",
   "metadata": {
    "ExecuteTime": {
     "end_time": "2021-10-23T15:11:08.642462Z",
     "start_time": "2021-10-23T15:11:08.618477Z"
    }
   },
   "outputs": [
    {
     "name": "stdout",
     "output_type": "stream",
     "text": [
      "98.0\n"
     ]
    }
   ],
   "source": [
    "notas = [0, 0, 9.0, 8.0, 5.0, 10.0, 7.0, 7.5, 4.0, 10.0, 7.0, 7.0, 8.0, 8.0, 7.5]\n",
    "\n",
    "## código omitido\n",
    "\n",
    "soma_das_notas = sum(notas)\n",
    "print(soma_das_notas)"
   ]
  },
  {
   "cell_type": "code",
   "execution_count": 116,
   "id": "acc18f6d",
   "metadata": {
    "ExecuteTime": {
     "end_time": "2021-10-23T15:18:23.645921Z",
     "start_time": "2021-10-23T15:18:23.624934Z"
    }
   },
   "outputs": [
    {
     "name": "stdout",
     "output_type": "stream",
     "text": [
      "[9.0, 8.0, 10.0, 7.5, 10.0, 8.0, 8.0, 7.5]\n"
     ]
    }
   ],
   "source": [
    "notas_validas = [nota for nota in notas if nota > 7]\n",
    "print(notas_validas)"
   ]
  },
  {
   "cell_type": "code",
   "execution_count": 118,
   "id": "8395a9a4",
   "metadata": {
    "ExecuteTime": {
     "end_time": "2021-10-23T15:20:17.192668Z",
     "start_time": "2021-10-23T15:20:17.178678Z"
    }
   },
   "outputs": [
    {
     "name": "stdout",
     "output_type": "stream",
     "text": [
      "[0, 0, 5.0, 4.0]\n"
     ]
    }
   ],
   "source": [
    "notas_recuperacao = [nota for nota in notas if nota < 7]\n",
    "print(notas_recuperacao)\n"
   ]
  },
  {
   "cell_type": "code",
   "execution_count": 122,
   "id": "bf76aaa3",
   "metadata": {
    "ExecuteTime": {
     "end_time": "2021-10-23T15:23:53.443589Z",
     "start_time": "2021-10-23T15:23:53.423607Z"
    }
   },
   "outputs": [
    {
     "name": "stdout",
     "output_type": "stream",
     "text": [
      "2\n"
     ]
    }
   ],
   "source": [
    "qtd_nota = notas.count(0)\n",
    "print(qtd_nota)"
   ]
  },
  {
   "cell_type": "code",
   "execution_count": 129,
   "id": "ae944837",
   "metadata": {
    "ExecuteTime": {
     "end_time": "2021-10-23T15:29:08.256151Z",
     "start_time": "2021-10-23T15:29:08.240166Z"
    }
   },
   "outputs": [],
   "source": [
    "n = ['Ele', 'soma','você', 'quantos', 'itens','você', 'numéricos', 'você', 'tiver', 'soma']    "
   ]
  },
  {
   "cell_type": "code",
   "execution_count": 130,
   "id": "5d1600d9",
   "metadata": {
    "ExecuteTime": {
     "end_time": "2021-10-23T15:29:11.353528Z",
     "start_time": "2021-10-23T15:29:11.337544Z"
    }
   },
   "outputs": [
    {
     "name": "stdout",
     "output_type": "stream",
     "text": [
      "2\n"
     ]
    }
   ],
   "source": [
    "c = n.count('soma')\n",
    "print(c)"
   ]
  },
  {
   "cell_type": "code",
   "execution_count": 140,
   "id": "ed4035fb",
   "metadata": {
    "ExecuteTime": {
     "end_time": "2021-10-23T15:31:59.636900Z",
     "start_time": "2021-10-23T15:31:59.614914Z"
    }
   },
   "outputs": [],
   "source": [
    "num = list(' numeros binarios ')"
   ]
  },
  {
   "cell_type": "code",
   "execution_count": 141,
   "id": "541a2af7",
   "metadata": {
    "ExecuteTime": {
     "end_time": "2021-10-23T15:32:02.339875Z",
     "start_time": "2021-10-23T15:32:02.316889Z"
    }
   },
   "outputs": [
    {
     "name": "stdout",
     "output_type": "stream",
     "text": [
      "3\n"
     ]
    }
   ],
   "source": [
    "r = num.count(' ')\n",
    "print(r)"
   ]
  },
  {
   "cell_type": "code",
   "execution_count": null,
   "id": "d9ad9ef2",
   "metadata": {},
   "outputs": [],
   "source": []
  }
 ],
 "metadata": {
  "kernelspec": {
   "display_name": "Python 3",
   "language": "python",
   "name": "python3"
  },
  "language_info": {
   "codemirror_mode": {
    "name": "ipython",
    "version": 3
   },
   "file_extension": ".py",
   "mimetype": "text/x-python",
   "name": "python",
   "nbconvert_exporter": "python",
   "pygments_lexer": "ipython3",
   "version": "3.8.3"
  },
  "toc": {
   "base_numbering": 1,
   "nav_menu": {},
   "number_sections": true,
   "sideBar": true,
   "skip_h1_title": false,
   "title_cell": "Table of Contents",
   "title_sidebar": "Contents",
   "toc_cell": false,
   "toc_position": {},
   "toc_section_display": true,
   "toc_window_display": false
  }
 },
 "nbformat": 4,
 "nbformat_minor": 5
}
