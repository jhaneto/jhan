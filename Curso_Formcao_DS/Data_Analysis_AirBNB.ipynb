{
 "cells": [
  {
   "cell_type": "code",
   "execution_count": 1,
   "id": "837d23e6",
   "metadata": {
    "ExecuteTime": {
     "end_time": "2021-10-23T15:46:43.126100Z",
     "start_time": "2021-10-23T15:46:22.502793Z"
    }
   },
   "outputs": [],
   "source": [
    "import pandas as pd\n",
    "import numpy as np\n"
   ]
  },
  {
   "cell_type": "code",
   "execution_count": 2,
   "id": "28ba7340",
   "metadata": {
    "ExecuteTime": {
     "end_time": "2021-10-23T15:48:08.721195Z",
     "start_time": "2021-10-23T15:48:08.228500Z"
    }
   },
   "outputs": [],
   "source": [
    "data = pd.read_csv('C:\\\\Users\\\\win10\\\\Desktop\\\\python_excel\\\\Projetos\\\\airbnb.csv')"
   ]
  },
  {
   "cell_type": "code",
   "execution_count": 85,
   "id": "9a0a0d5b",
   "metadata": {
    "ExecuteTime": {
     "end_time": "2021-10-23T19:01:19.261700Z",
     "start_time": "2021-10-23T19:01:19.130779Z"
    }
   },
   "outputs": [
    {
     "data": {
      "text/html": [
       "<div>\n",
       "<style scoped>\n",
       "    .dataframe tbody tr th:only-of-type {\n",
       "        vertical-align: middle;\n",
       "    }\n",
       "\n",
       "    .dataframe tbody tr th {\n",
       "        vertical-align: top;\n",
       "    }\n",
       "\n",
       "    .dataframe thead th {\n",
       "        text-align: right;\n",
       "    }\n",
       "</style>\n",
       "<table border=\"1\" class=\"dataframe\">\n",
       "  <thead>\n",
       "    <tr style=\"text-align: right;\">\n",
       "      <th></th>\n",
       "      <th>id</th>\n",
       "      <th>name</th>\n",
       "      <th>host_id</th>\n",
       "      <th>host_name</th>\n",
       "      <th>neighbourhood_group</th>\n",
       "      <th>neighbourhood</th>\n",
       "      <th>latitude</th>\n",
       "      <th>longitude</th>\n",
       "      <th>room_type</th>\n",
       "      <th>price</th>\n",
       "      <th>minimum_nights</th>\n",
       "      <th>number_of_reviews</th>\n",
       "      <th>last_review</th>\n",
       "      <th>reviews_per_month</th>\n",
       "      <th>calculated_host_listings_count</th>\n",
       "      <th>availability_365</th>\n",
       "    </tr>\n",
       "  </thead>\n",
       "  <tbody>\n",
       "    <tr>\n",
       "      <th>0</th>\n",
       "      <td>958</td>\n",
       "      <td>Bright, Modern Garden Unit - 1BR/1B</td>\n",
       "      <td>1169</td>\n",
       "      <td>Holly</td>\n",
       "      <td>NaN</td>\n",
       "      <td>Western Addition</td>\n",
       "      <td>37.769310</td>\n",
       "      <td>-122.433856</td>\n",
       "      <td>Entire home/apt</td>\n",
       "      <td>170.0</td>\n",
       "      <td>1</td>\n",
       "      <td>172</td>\n",
       "      <td>2018-11-16</td>\n",
       "      <td>1.51</td>\n",
       "      <td>1</td>\n",
       "      <td>74</td>\n",
       "    </tr>\n",
       "    <tr>\n",
       "      <th>1</th>\n",
       "      <td>5858</td>\n",
       "      <td>Creative Sanctuary</td>\n",
       "      <td>8904</td>\n",
       "      <td>Philip And Tania</td>\n",
       "      <td>NaN</td>\n",
       "      <td>Bernal Heights</td>\n",
       "      <td>37.745112</td>\n",
       "      <td>-122.421018</td>\n",
       "      <td>Entire home/apt</td>\n",
       "      <td>235.0</td>\n",
       "      <td>30</td>\n",
       "      <td>112</td>\n",
       "      <td>2017-08-06</td>\n",
       "      <td>0.96</td>\n",
       "      <td>1</td>\n",
       "      <td>365</td>\n",
       "    </tr>\n",
       "    <tr>\n",
       "      <th>2</th>\n",
       "      <td>7918</td>\n",
       "      <td>A Friendly Room - UCSF/USF - San Francisco</td>\n",
       "      <td>21994</td>\n",
       "      <td>Aaron</td>\n",
       "      <td>NaN</td>\n",
       "      <td>Haight Ashbury</td>\n",
       "      <td>37.766690</td>\n",
       "      <td>-122.452505</td>\n",
       "      <td>Private room</td>\n",
       "      <td>65.0</td>\n",
       "      <td>32</td>\n",
       "      <td>17</td>\n",
       "      <td>2016-11-21</td>\n",
       "      <td>0.15</td>\n",
       "      <td>9</td>\n",
       "      <td>365</td>\n",
       "    </tr>\n",
       "    <tr>\n",
       "      <th>3</th>\n",
       "      <td>8142</td>\n",
       "      <td>Friendly Room Apt. Style -UCSF/USF - San Franc...</td>\n",
       "      <td>21994</td>\n",
       "      <td>Aaron</td>\n",
       "      <td>NaN</td>\n",
       "      <td>Haight Ashbury</td>\n",
       "      <td>37.764872</td>\n",
       "      <td>-122.451828</td>\n",
       "      <td>Private room</td>\n",
       "      <td>65.0</td>\n",
       "      <td>32</td>\n",
       "      <td>8</td>\n",
       "      <td>2018-09-12</td>\n",
       "      <td>0.15</td>\n",
       "      <td>9</td>\n",
       "      <td>365</td>\n",
       "    </tr>\n",
       "    <tr>\n",
       "      <th>4</th>\n",
       "      <td>8339</td>\n",
       "      <td>Historic Alamo Square Victorian</td>\n",
       "      <td>24215</td>\n",
       "      <td>Rosy</td>\n",
       "      <td>NaN</td>\n",
       "      <td>Western Addition</td>\n",
       "      <td>37.775249</td>\n",
       "      <td>-122.436374</td>\n",
       "      <td>Entire home/apt</td>\n",
       "      <td>785.0</td>\n",
       "      <td>7</td>\n",
       "      <td>27</td>\n",
       "      <td>2018-08-11</td>\n",
       "      <td>0.24</td>\n",
       "      <td>2</td>\n",
       "      <td>89</td>\n",
       "    </tr>\n",
       "  </tbody>\n",
       "</table>\n",
       "</div>"
      ],
      "text/plain": [
       "     id                                               name  host_id  \\\n",
       "0   958                Bright, Modern Garden Unit - 1BR/1B     1169   \n",
       "1  5858                                 Creative Sanctuary     8904   \n",
       "2  7918         A Friendly Room - UCSF/USF - San Francisco    21994   \n",
       "3  8142  Friendly Room Apt. Style -UCSF/USF - San Franc...    21994   \n",
       "4  8339                    Historic Alamo Square Victorian    24215   \n",
       "\n",
       "          host_name  neighbourhood_group     neighbourhood   latitude  \\\n",
       "0             Holly                  NaN  Western Addition  37.769310   \n",
       "1  Philip And Tania                  NaN    Bernal Heights  37.745112   \n",
       "2             Aaron                  NaN    Haight Ashbury  37.766690   \n",
       "3             Aaron                  NaN    Haight Ashbury  37.764872   \n",
       "4              Rosy                  NaN  Western Addition  37.775249   \n",
       "\n",
       "    longitude        room_type  price  minimum_nights  number_of_reviews  \\\n",
       "0 -122.433856  Entire home/apt  170.0               1                172   \n",
       "1 -122.421018  Entire home/apt  235.0              30                112   \n",
       "2 -122.452505     Private room   65.0              32                 17   \n",
       "3 -122.451828     Private room   65.0              32                  8   \n",
       "4 -122.436374  Entire home/apt  785.0               7                 27   \n",
       "\n",
       "  last_review  reviews_per_month  calculated_host_listings_count  \\\n",
       "0  2018-11-16               1.51                               1   \n",
       "1  2017-08-06               0.96                               1   \n",
       "2  2016-11-21               0.15                               9   \n",
       "3  2018-09-12               0.15                               9   \n",
       "4  2018-08-11               0.24                               2   \n",
       "\n",
       "   availability_365  \n",
       "0                74  \n",
       "1               365  \n",
       "2               365  \n",
       "3               365  \n",
       "4                89  "
      ]
     },
     "execution_count": 85,
     "metadata": {},
     "output_type": "execute_result"
    }
   ],
   "source": [
    "data.head()"
   ]
  },
  {
   "cell_type": "code",
   "execution_count": 35,
   "id": "f46e28c3",
   "metadata": {
    "ExecuteTime": {
     "end_time": "2021-10-23T17:40:27.658263Z",
     "start_time": "2021-10-23T17:40:27.634283Z"
    }
   },
   "outputs": [],
   "source": [
    "data.isnull().sum()\n",
    "#data.isnull().values.sum()"
   ]
  },
  {
   "cell_type": "code",
   "execution_count": 36,
   "id": "7ed86d8b",
   "metadata": {
    "ExecuteTime": {
     "end_time": "2021-10-23T17:40:33.587992Z",
     "start_time": "2021-10-23T17:40:33.557006Z"
    }
   },
   "outputs": [],
   "source": [
    "data[data['last_review'].notnull()].count()"
   ]
  },
  {
   "cell_type": "code",
   "execution_count": null,
   "id": "af5e26a0",
   "metadata": {
    "ExecuteTime": {
     "end_time": "2021-10-23T17:40:58.327952Z",
     "start_time": "2021-10-23T17:40:58.304969Z"
    }
   },
   "outputs": [],
   "source": []
  },
  {
   "cell_type": "code",
   "execution_count": 31,
   "id": "168b0528",
   "metadata": {
    "ExecuteTime": {
     "end_time": "2021-10-23T17:34:30.680569Z",
     "start_time": "2021-10-23T17:34:30.547651Z"
    }
   },
   "outputs": [
    {
     "data": {
      "text/html": [
       "<div>\n",
       "<style scoped>\n",
       "    .dataframe tbody tr th:only-of-type {\n",
       "        vertical-align: middle;\n",
       "    }\n",
       "\n",
       "    .dataframe tbody tr th {\n",
       "        vertical-align: top;\n",
       "    }\n",
       "\n",
       "    .dataframe thead th {\n",
       "        text-align: right;\n",
       "    }\n",
       "</style>\n",
       "<table border=\"1\" class=\"dataframe\">\n",
       "  <thead>\n",
       "    <tr style=\"text-align: right;\">\n",
       "      <th></th>\n",
       "      <th>id</th>\n",
       "      <th>name</th>\n",
       "      <th>host_id</th>\n",
       "      <th>host_name</th>\n",
       "      <th>neighbourhood_group</th>\n",
       "      <th>neighbourhood</th>\n",
       "      <th>latitude</th>\n",
       "      <th>longitude</th>\n",
       "      <th>room_type</th>\n",
       "      <th>price</th>\n",
       "      <th>minimum_nights</th>\n",
       "      <th>number_of_reviews</th>\n",
       "      <th>last_review</th>\n",
       "      <th>reviews_per_month</th>\n",
       "      <th>calculated_host_listings_count</th>\n",
       "      <th>availability_365</th>\n",
       "    </tr>\n",
       "  </thead>\n",
       "  <tbody>\n",
       "    <tr>\n",
       "      <th>200</th>\n",
       "      <td>220780</td>\n",
       "      <td>Room in home near beach San  Francisco, Ca</td>\n",
       "      <td>1144980</td>\n",
       "      <td>Victor</td>\n",
       "      <td>NaN</td>\n",
       "      <td>Outer Richmond</td>\n",
       "      <td>37.775793</td>\n",
       "      <td>-122.507019</td>\n",
       "      <td>Private room</td>\n",
       "      <td>162.0</td>\n",
       "      <td>30</td>\n",
       "      <td>0</td>\n",
       "      <td>NaT</td>\n",
       "      <td>NaN</td>\n",
       "      <td>2</td>\n",
       "      <td>82</td>\n",
       "    </tr>\n",
       "    <tr>\n",
       "      <th>278</th>\n",
       "      <td>364023</td>\n",
       "      <td>Beautiful, spacious, modern apt with great views</td>\n",
       "      <td>1789039</td>\n",
       "      <td>Ashleigh</td>\n",
       "      <td>NaN</td>\n",
       "      <td>Excelsior</td>\n",
       "      <td>37.726356</td>\n",
       "      <td>-122.433418</td>\n",
       "      <td>Private room</td>\n",
       "      <td>85.0</td>\n",
       "      <td>30</td>\n",
       "      <td>0</td>\n",
       "      <td>NaT</td>\n",
       "      <td>NaN</td>\n",
       "      <td>1</td>\n",
       "      <td>73</td>\n",
       "    </tr>\n",
       "    <tr>\n",
       "      <th>430</th>\n",
       "      <td>686677</td>\n",
       "      <td>Shared room with bathroom 1 person.</td>\n",
       "      <td>3503605</td>\n",
       "      <td>Joe</td>\n",
       "      <td>NaN</td>\n",
       "      <td>Western Addition</td>\n",
       "      <td>37.775322</td>\n",
       "      <td>-122.437406</td>\n",
       "      <td>Shared room</td>\n",
       "      <td>67.0</td>\n",
       "      <td>30</td>\n",
       "      <td>0</td>\n",
       "      <td>NaT</td>\n",
       "      <td>NaN</td>\n",
       "      <td>2</td>\n",
       "      <td>89</td>\n",
       "    </tr>\n",
       "    <tr>\n",
       "      <th>432</th>\n",
       "      <td>690872</td>\n",
       "      <td>Pacific Hts Designer Home</td>\n",
       "      <td>1142106</td>\n",
       "      <td>Pat</td>\n",
       "      <td>NaN</td>\n",
       "      <td>Pacific Heights</td>\n",
       "      <td>37.791393</td>\n",
       "      <td>-122.445525</td>\n",
       "      <td>Entire home/apt</td>\n",
       "      <td>240.0</td>\n",
       "      <td>30</td>\n",
       "      <td>0</td>\n",
       "      <td>NaT</td>\n",
       "      <td>NaN</td>\n",
       "      <td>2</td>\n",
       "      <td>365</td>\n",
       "    </tr>\n",
       "    <tr>\n",
       "      <th>493</th>\n",
       "      <td>819856</td>\n",
       "      <td>Most Luxury condo in SF!</td>\n",
       "      <td>3752142</td>\n",
       "      <td>Ame</td>\n",
       "      <td>NaN</td>\n",
       "      <td>Financial District</td>\n",
       "      <td>37.791190</td>\n",
       "      <td>-122.395642</td>\n",
       "      <td>Entire home/apt</td>\n",
       "      <td>289.0</td>\n",
       "      <td>30</td>\n",
       "      <td>0</td>\n",
       "      <td>NaT</td>\n",
       "      <td>NaN</td>\n",
       "      <td>1</td>\n",
       "      <td>365</td>\n",
       "    </tr>\n",
       "    <tr>\n",
       "      <th>...</th>\n",
       "      <td>...</td>\n",
       "      <td>...</td>\n",
       "      <td>...</td>\n",
       "      <td>...</td>\n",
       "      <td>...</td>\n",
       "      <td>...</td>\n",
       "      <td>...</td>\n",
       "      <td>...</td>\n",
       "      <td>...</td>\n",
       "      <td>...</td>\n",
       "      <td>...</td>\n",
       "      <td>...</td>\n",
       "      <td>...</td>\n",
       "      <td>...</td>\n",
       "      <td>...</td>\n",
       "      <td>...</td>\n",
       "    </tr>\n",
       "    <tr>\n",
       "      <th>7067</th>\n",
       "      <td>30540537</td>\n",
       "      <td>NEW: Multi-Level SF Luxury Home</td>\n",
       "      <td>119863672</td>\n",
       "      <td>Dave (And Paul)</td>\n",
       "      <td>NaN</td>\n",
       "      <td>Twin Peaks</td>\n",
       "      <td>37.756338</td>\n",
       "      <td>-122.446851</td>\n",
       "      <td>Entire home/apt</td>\n",
       "      <td>1800.0</td>\n",
       "      <td>4</td>\n",
       "      <td>0</td>\n",
       "      <td>NaT</td>\n",
       "      <td>NaN</td>\n",
       "      <td>2</td>\n",
       "      <td>12</td>\n",
       "    </tr>\n",
       "    <tr>\n",
       "      <th>7068</th>\n",
       "      <td>30541284</td>\n",
       "      <td>Lake Merced beautiful private room w/garden view</td>\n",
       "      <td>131200418</td>\n",
       "      <td>Lois</td>\n",
       "      <td>NaN</td>\n",
       "      <td>Lakeshore</td>\n",
       "      <td>37.731019</td>\n",
       "      <td>-122.489153</td>\n",
       "      <td>Private room</td>\n",
       "      <td>55.0</td>\n",
       "      <td>30</td>\n",
       "      <td>0</td>\n",
       "      <td>NaT</td>\n",
       "      <td>NaN</td>\n",
       "      <td>16</td>\n",
       "      <td>352</td>\n",
       "    </tr>\n",
       "    <tr>\n",
       "      <th>7069</th>\n",
       "      <td>30541662</td>\n",
       "      <td>Sunny SOMA 40 Ft Ceiling Condo 8 Min to MOSCONE</td>\n",
       "      <td>7452455</td>\n",
       "      <td>Neal</td>\n",
       "      <td>NaN</td>\n",
       "      <td>South of Market</td>\n",
       "      <td>37.775284</td>\n",
       "      <td>-122.409026</td>\n",
       "      <td>Private room</td>\n",
       "      <td>65.0</td>\n",
       "      <td>30</td>\n",
       "      <td>0</td>\n",
       "      <td>NaT</td>\n",
       "      <td>NaN</td>\n",
       "      <td>1</td>\n",
       "      <td>85</td>\n",
       "    </tr>\n",
       "    <tr>\n",
       "      <th>7070</th>\n",
       "      <td>30542954</td>\n",
       "      <td>Mission House 2</td>\n",
       "      <td>112282150</td>\n",
       "      <td>Sergey&amp;Tatyana</td>\n",
       "      <td>NaN</td>\n",
       "      <td>Downtown/Civic Center</td>\n",
       "      <td>37.788325</td>\n",
       "      <td>-122.416112</td>\n",
       "      <td>Private room</td>\n",
       "      <td>50.0</td>\n",
       "      <td>30</td>\n",
       "      <td>0</td>\n",
       "      <td>NaT</td>\n",
       "      <td>NaN</td>\n",
       "      <td>2</td>\n",
       "      <td>351</td>\n",
       "    </tr>\n",
       "    <tr>\n",
       "      <th>7071</th>\n",
       "      <td>30552278</td>\n",
       "      <td>2Bed+1Bath Potrero Condo</td>\n",
       "      <td>11306525</td>\n",
       "      <td>Jennifer</td>\n",
       "      <td>NaN</td>\n",
       "      <td>Mission</td>\n",
       "      <td>37.765561</td>\n",
       "      <td>-122.408042</td>\n",
       "      <td>Entire home/apt</td>\n",
       "      <td>120.0</td>\n",
       "      <td>30</td>\n",
       "      <td>0</td>\n",
       "      <td>NaT</td>\n",
       "      <td>NaN</td>\n",
       "      <td>1</td>\n",
       "      <td>138</td>\n",
       "    </tr>\n",
       "  </tbody>\n",
       "</table>\n",
       "<p>1328 rows × 16 columns</p>\n",
       "</div>"
      ],
      "text/plain": [
       "            id                                              name    host_id  \\\n",
       "200     220780        Room in home near beach San  Francisco, Ca    1144980   \n",
       "278     364023  Beautiful, spacious, modern apt with great views    1789039   \n",
       "430     686677               Shared room with bathroom 1 person.    3503605   \n",
       "432     690872                         Pacific Hts Designer Home    1142106   \n",
       "493     819856                          Most Luxury condo in SF!    3752142   \n",
       "...        ...                                               ...        ...   \n",
       "7067  30540537                   NEW: Multi-Level SF Luxury Home  119863672   \n",
       "7068  30541284  Lake Merced beautiful private room w/garden view  131200418   \n",
       "7069  30541662   Sunny SOMA 40 Ft Ceiling Condo 8 Min to MOSCONE    7452455   \n",
       "7070  30542954                                   Mission House 2  112282150   \n",
       "7071  30552278                          2Bed+1Bath Potrero Condo   11306525   \n",
       "\n",
       "            host_name  neighbourhood_group          neighbourhood   latitude  \\\n",
       "200            Victor                  NaN         Outer Richmond  37.775793   \n",
       "278          Ashleigh                  NaN              Excelsior  37.726356   \n",
       "430               Joe                  NaN       Western Addition  37.775322   \n",
       "432               Pat                  NaN        Pacific Heights  37.791393   \n",
       "493               Ame                  NaN     Financial District  37.791190   \n",
       "...               ...                  ...                    ...        ...   \n",
       "7067  Dave (And Paul)                  NaN             Twin Peaks  37.756338   \n",
       "7068             Lois                  NaN              Lakeshore  37.731019   \n",
       "7069             Neal                  NaN        South of Market  37.775284   \n",
       "7070   Sergey&Tatyana                  NaN  Downtown/Civic Center  37.788325   \n",
       "7071         Jennifer                  NaN                Mission  37.765561   \n",
       "\n",
       "       longitude        room_type   price  minimum_nights  number_of_reviews  \\\n",
       "200  -122.507019     Private room   162.0              30                  0   \n",
       "278  -122.433418     Private room    85.0              30                  0   \n",
       "430  -122.437406      Shared room    67.0              30                  0   \n",
       "432  -122.445525  Entire home/apt   240.0              30                  0   \n",
       "493  -122.395642  Entire home/apt   289.0              30                  0   \n",
       "...          ...              ...     ...             ...                ...   \n",
       "7067 -122.446851  Entire home/apt  1800.0               4                  0   \n",
       "7068 -122.489153     Private room    55.0              30                  0   \n",
       "7069 -122.409026     Private room    65.0              30                  0   \n",
       "7070 -122.416112     Private room    50.0              30                  0   \n",
       "7071 -122.408042  Entire home/apt   120.0              30                  0   \n",
       "\n",
       "     last_review  reviews_per_month  calculated_host_listings_count  \\\n",
       "200          NaT                NaN                               2   \n",
       "278          NaT                NaN                               1   \n",
       "430          NaT                NaN                               2   \n",
       "432          NaT                NaN                               2   \n",
       "493          NaT                NaN                               1   \n",
       "...          ...                ...                             ...   \n",
       "7067         NaT                NaN                               2   \n",
       "7068         NaT                NaN                              16   \n",
       "7069         NaT                NaN                               1   \n",
       "7070         NaT                NaN                               2   \n",
       "7071         NaT                NaN                               1   \n",
       "\n",
       "      availability_365  \n",
       "200                 82  \n",
       "278                 73  \n",
       "430                 89  \n",
       "432                365  \n",
       "493                365  \n",
       "...                ...  \n",
       "7067                12  \n",
       "7068               352  \n",
       "7069                85  \n",
       "7070               351  \n",
       "7071               138  \n",
       "\n",
       "[1328 rows x 16 columns]"
      ]
     },
     "execution_count": 31,
     "metadata": {},
     "output_type": "execute_result"
    }
   ],
   "source": [
    "#data.fillna(data)\n",
    "\n",
    "#data.shape\n",
    "#visualização de todas as linhas que esta vazia do campo last_review\n",
    "data[data['last_review'].isnull()] "
   ]
  },
  {
   "cell_type": "code",
   "execution_count": 7,
   "id": "2f033513",
   "metadata": {
    "ExecuteTime": {
     "end_time": "2021-10-23T16:01:14.327884Z",
     "start_time": "2021-10-23T16:01:14.241941Z"
    }
   },
   "outputs": [],
   "source": [
    "data['price'] = data['price'].astype(float)"
   ]
  },
  {
   "cell_type": "code",
   "execution_count": 11,
   "id": "6816b726",
   "metadata": {
    "ExecuteTime": {
     "end_time": "2021-10-23T16:06:04.948883Z",
     "start_time": "2021-10-23T16:06:04.854939Z"
    }
   },
   "outputs": [],
   "source": [
    "data[\"last_review\"] = pd.to_datetime(data[\"last_review\"], format=\"%m/%d/%Y\")"
   ]
  },
  {
   "cell_type": "code",
   "execution_count": 38,
   "id": "0bdd7b84",
   "metadata": {
    "ExecuteTime": {
     "end_time": "2021-10-23T17:42:40.126959Z",
     "start_time": "2021-10-23T17:42:40.005035Z"
    }
   },
   "outputs": [
    {
     "data": {
      "text/plain": [
       "7072"
      ]
     },
     "execution_count": 38,
     "metadata": {},
     "output_type": "execute_result"
    }
   ],
   "source": [
    "data.isnull().T.any().T.sum()"
   ]
  },
  {
   "cell_type": "code",
   "execution_count": 39,
   "id": "7213c2cf",
   "metadata": {
    "ExecuteTime": {
     "end_time": "2021-10-23T17:43:14.874687Z",
     "start_time": "2021-10-23T17:43:14.772754Z"
    }
   },
   "outputs": [],
   "source": [
    "#Se você precisar saber quantas linhas existem com \"um ou mais NaNs\":\n",
    "nan_rows = data[data.isnull().T.any().T]\n",
    "nan_rows"
   ]
  },
  {
   "cell_type": "code",
   "execution_count": 42,
   "id": "58dcbadc",
   "metadata": {
    "ExecuteTime": {
     "end_time": "2021-10-23T17:46:08.696036Z",
     "start_time": "2021-10-23T17:46:08.655057Z"
    }
   },
   "outputs": [
    {
     "data": {
      "text/plain": [
       "True"
      ]
     },
     "execution_count": 42,
     "metadata": {},
     "output_type": "execute_result"
    }
   ],
   "source": [
    "df = data.isna().any(axis=None)\n",
    "df"
   ]
  },
  {
   "cell_type": "code",
   "execution_count": 43,
   "id": "771eed4f",
   "metadata": {
    "ExecuteTime": {
     "end_time": "2021-10-23T17:46:39.351856Z",
     "start_time": "2021-10-23T17:46:39.241923Z"
    }
   },
   "outputs": [
    {
     "data": {
      "text/html": [
       "<div>\n",
       "<style scoped>\n",
       "    .dataframe tbody tr th:only-of-type {\n",
       "        vertical-align: middle;\n",
       "    }\n",
       "\n",
       "    .dataframe tbody tr th {\n",
       "        vertical-align: top;\n",
       "    }\n",
       "\n",
       "    .dataframe thead th {\n",
       "        text-align: right;\n",
       "    }\n",
       "</style>\n",
       "<table border=\"1\" class=\"dataframe\">\n",
       "  <thead>\n",
       "    <tr style=\"text-align: right;\">\n",
       "      <th></th>\n",
       "      <th>id</th>\n",
       "      <th>name</th>\n",
       "      <th>host_id</th>\n",
       "      <th>host_name</th>\n",
       "      <th>neighbourhood_group</th>\n",
       "      <th>neighbourhood</th>\n",
       "      <th>latitude</th>\n",
       "      <th>longitude</th>\n",
       "      <th>room_type</th>\n",
       "      <th>price</th>\n",
       "      <th>minimum_nights</th>\n",
       "      <th>number_of_reviews</th>\n",
       "      <th>last_review</th>\n",
       "      <th>reviews_per_month</th>\n",
       "      <th>calculated_host_listings_count</th>\n",
       "      <th>availability_365</th>\n",
       "    </tr>\n",
       "  </thead>\n",
       "  <tbody>\n",
       "    <tr>\n",
       "      <th>0</th>\n",
       "      <td>False</td>\n",
       "      <td>False</td>\n",
       "      <td>False</td>\n",
       "      <td>False</td>\n",
       "      <td>True</td>\n",
       "      <td>False</td>\n",
       "      <td>False</td>\n",
       "      <td>False</td>\n",
       "      <td>False</td>\n",
       "      <td>False</td>\n",
       "      <td>False</td>\n",
       "      <td>False</td>\n",
       "      <td>False</td>\n",
       "      <td>False</td>\n",
       "      <td>False</td>\n",
       "      <td>False</td>\n",
       "    </tr>\n",
       "    <tr>\n",
       "      <th>1</th>\n",
       "      <td>False</td>\n",
       "      <td>False</td>\n",
       "      <td>False</td>\n",
       "      <td>False</td>\n",
       "      <td>True</td>\n",
       "      <td>False</td>\n",
       "      <td>False</td>\n",
       "      <td>False</td>\n",
       "      <td>False</td>\n",
       "      <td>False</td>\n",
       "      <td>False</td>\n",
       "      <td>False</td>\n",
       "      <td>False</td>\n",
       "      <td>False</td>\n",
       "      <td>False</td>\n",
       "      <td>False</td>\n",
       "    </tr>\n",
       "    <tr>\n",
       "      <th>2</th>\n",
       "      <td>False</td>\n",
       "      <td>False</td>\n",
       "      <td>False</td>\n",
       "      <td>False</td>\n",
       "      <td>True</td>\n",
       "      <td>False</td>\n",
       "      <td>False</td>\n",
       "      <td>False</td>\n",
       "      <td>False</td>\n",
       "      <td>False</td>\n",
       "      <td>False</td>\n",
       "      <td>False</td>\n",
       "      <td>False</td>\n",
       "      <td>False</td>\n",
       "      <td>False</td>\n",
       "      <td>False</td>\n",
       "    </tr>\n",
       "    <tr>\n",
       "      <th>3</th>\n",
       "      <td>False</td>\n",
       "      <td>False</td>\n",
       "      <td>False</td>\n",
       "      <td>False</td>\n",
       "      <td>True</td>\n",
       "      <td>False</td>\n",
       "      <td>False</td>\n",
       "      <td>False</td>\n",
       "      <td>False</td>\n",
       "      <td>False</td>\n",
       "      <td>False</td>\n",
       "      <td>False</td>\n",
       "      <td>False</td>\n",
       "      <td>False</td>\n",
       "      <td>False</td>\n",
       "      <td>False</td>\n",
       "    </tr>\n",
       "    <tr>\n",
       "      <th>4</th>\n",
       "      <td>False</td>\n",
       "      <td>False</td>\n",
       "      <td>False</td>\n",
       "      <td>False</td>\n",
       "      <td>True</td>\n",
       "      <td>False</td>\n",
       "      <td>False</td>\n",
       "      <td>False</td>\n",
       "      <td>False</td>\n",
       "      <td>False</td>\n",
       "      <td>False</td>\n",
       "      <td>False</td>\n",
       "      <td>False</td>\n",
       "      <td>False</td>\n",
       "      <td>False</td>\n",
       "      <td>False</td>\n",
       "    </tr>\n",
       "    <tr>\n",
       "      <th>...</th>\n",
       "      <td>...</td>\n",
       "      <td>...</td>\n",
       "      <td>...</td>\n",
       "      <td>...</td>\n",
       "      <td>...</td>\n",
       "      <td>...</td>\n",
       "      <td>...</td>\n",
       "      <td>...</td>\n",
       "      <td>...</td>\n",
       "      <td>...</td>\n",
       "      <td>...</td>\n",
       "      <td>...</td>\n",
       "      <td>...</td>\n",
       "      <td>...</td>\n",
       "      <td>...</td>\n",
       "      <td>...</td>\n",
       "    </tr>\n",
       "    <tr>\n",
       "      <th>7067</th>\n",
       "      <td>False</td>\n",
       "      <td>False</td>\n",
       "      <td>False</td>\n",
       "      <td>False</td>\n",
       "      <td>True</td>\n",
       "      <td>False</td>\n",
       "      <td>False</td>\n",
       "      <td>False</td>\n",
       "      <td>False</td>\n",
       "      <td>False</td>\n",
       "      <td>False</td>\n",
       "      <td>False</td>\n",
       "      <td>True</td>\n",
       "      <td>True</td>\n",
       "      <td>False</td>\n",
       "      <td>False</td>\n",
       "    </tr>\n",
       "    <tr>\n",
       "      <th>7068</th>\n",
       "      <td>False</td>\n",
       "      <td>False</td>\n",
       "      <td>False</td>\n",
       "      <td>False</td>\n",
       "      <td>True</td>\n",
       "      <td>False</td>\n",
       "      <td>False</td>\n",
       "      <td>False</td>\n",
       "      <td>False</td>\n",
       "      <td>False</td>\n",
       "      <td>False</td>\n",
       "      <td>False</td>\n",
       "      <td>True</td>\n",
       "      <td>True</td>\n",
       "      <td>False</td>\n",
       "      <td>False</td>\n",
       "    </tr>\n",
       "    <tr>\n",
       "      <th>7069</th>\n",
       "      <td>False</td>\n",
       "      <td>False</td>\n",
       "      <td>False</td>\n",
       "      <td>False</td>\n",
       "      <td>True</td>\n",
       "      <td>False</td>\n",
       "      <td>False</td>\n",
       "      <td>False</td>\n",
       "      <td>False</td>\n",
       "      <td>False</td>\n",
       "      <td>False</td>\n",
       "      <td>False</td>\n",
       "      <td>True</td>\n",
       "      <td>True</td>\n",
       "      <td>False</td>\n",
       "      <td>False</td>\n",
       "    </tr>\n",
       "    <tr>\n",
       "      <th>7070</th>\n",
       "      <td>False</td>\n",
       "      <td>False</td>\n",
       "      <td>False</td>\n",
       "      <td>False</td>\n",
       "      <td>True</td>\n",
       "      <td>False</td>\n",
       "      <td>False</td>\n",
       "      <td>False</td>\n",
       "      <td>False</td>\n",
       "      <td>False</td>\n",
       "      <td>False</td>\n",
       "      <td>False</td>\n",
       "      <td>True</td>\n",
       "      <td>True</td>\n",
       "      <td>False</td>\n",
       "      <td>False</td>\n",
       "    </tr>\n",
       "    <tr>\n",
       "      <th>7071</th>\n",
       "      <td>False</td>\n",
       "      <td>False</td>\n",
       "      <td>False</td>\n",
       "      <td>False</td>\n",
       "      <td>True</td>\n",
       "      <td>False</td>\n",
       "      <td>False</td>\n",
       "      <td>False</td>\n",
       "      <td>False</td>\n",
       "      <td>False</td>\n",
       "      <td>False</td>\n",
       "      <td>False</td>\n",
       "      <td>True</td>\n",
       "      <td>True</td>\n",
       "      <td>False</td>\n",
       "      <td>False</td>\n",
       "    </tr>\n",
       "  </tbody>\n",
       "</table>\n",
       "<p>7072 rows × 16 columns</p>\n",
       "</div>"
      ],
      "text/plain": [
       "         id   name  host_id  host_name  neighbourhood_group  neighbourhood  \\\n",
       "0     False  False    False      False                 True          False   \n",
       "1     False  False    False      False                 True          False   \n",
       "2     False  False    False      False                 True          False   \n",
       "3     False  False    False      False                 True          False   \n",
       "4     False  False    False      False                 True          False   \n",
       "...     ...    ...      ...        ...                  ...            ...   \n",
       "7067  False  False    False      False                 True          False   \n",
       "7068  False  False    False      False                 True          False   \n",
       "7069  False  False    False      False                 True          False   \n",
       "7070  False  False    False      False                 True          False   \n",
       "7071  False  False    False      False                 True          False   \n",
       "\n",
       "      latitude  longitude  room_type  price  minimum_nights  \\\n",
       "0        False      False      False  False           False   \n",
       "1        False      False      False  False           False   \n",
       "2        False      False      False  False           False   \n",
       "3        False      False      False  False           False   \n",
       "4        False      False      False  False           False   \n",
       "...        ...        ...        ...    ...             ...   \n",
       "7067     False      False      False  False           False   \n",
       "7068     False      False      False  False           False   \n",
       "7069     False      False      False  False           False   \n",
       "7070     False      False      False  False           False   \n",
       "7071     False      False      False  False           False   \n",
       "\n",
       "      number_of_reviews  last_review  reviews_per_month  \\\n",
       "0                 False        False              False   \n",
       "1                 False        False              False   \n",
       "2                 False        False              False   \n",
       "3                 False        False              False   \n",
       "4                 False        False              False   \n",
       "...                 ...          ...                ...   \n",
       "7067              False         True               True   \n",
       "7068              False         True               True   \n",
       "7069              False         True               True   \n",
       "7070              False         True               True   \n",
       "7071              False         True               True   \n",
       "\n",
       "      calculated_host_listings_count  availability_365  \n",
       "0                              False             False  \n",
       "1                              False             False  \n",
       "2                              False             False  \n",
       "3                              False             False  \n",
       "4                              False             False  \n",
       "...                              ...               ...  \n",
       "7067                           False             False  \n",
       "7068                           False             False  \n",
       "7069                           False             False  \n",
       "7070                           False             False  \n",
       "7071                           False             False  \n",
       "\n",
       "[7072 rows x 16 columns]"
      ]
     },
     "execution_count": 43,
     "metadata": {},
     "output_type": "execute_result"
    }
   ],
   "source": [
    "#Mostra qual colunas tem valores vazios(NaN)\n",
    "data.isna()"
   ]
  },
  {
   "cell_type": "code",
   "execution_count": 45,
   "id": "8e2c7914",
   "metadata": {
    "ExecuteTime": {
     "end_time": "2021-10-23T17:49:07.075125Z",
     "start_time": "2021-10-23T17:49:07.058128Z"
    }
   },
   "outputs": [
    {
     "data": {
      "text/plain": [
       "True"
      ]
     },
     "execution_count": 45,
     "metadata": {},
     "output_type": "execute_result"
    }
   ],
   "source": [
    "#para verificar se uma única coluna possui NaNs\n",
    "data['last_review'].hasnans"
   ]
  },
  {
   "cell_type": "code",
   "execution_count": 46,
   "id": "39dcb473",
   "metadata": {
    "ExecuteTime": {
     "end_time": "2021-10-23T17:51:56.502848Z",
     "start_time": "2021-10-23T17:51:56.463868Z"
    }
   },
   "outputs": [
    {
     "data": {
      "text/plain": [
       "True"
      ]
     },
     "execution_count": 46,
     "metadata": {},
     "output_type": "execute_result"
    }
   ],
   "source": [
    "#para verificar se uma única coluna possui NaNs\n",
    "any(data[c].hasnans for c in data)"
   ]
  },
  {
   "cell_type": "code",
   "execution_count": 47,
   "id": "73b486b2",
   "metadata": {
    "ExecuteTime": {
     "end_time": "2021-10-23T17:53:12.453403Z",
     "start_time": "2021-10-23T17:53:12.122612Z"
    }
   },
   "outputs": [
    {
     "data": {
      "text/html": [
       "<div>\n",
       "<style scoped>\n",
       "    .dataframe tbody tr th:only-of-type {\n",
       "        vertical-align: middle;\n",
       "    }\n",
       "\n",
       "    .dataframe tbody tr th {\n",
       "        vertical-align: top;\n",
       "    }\n",
       "\n",
       "    .dataframe thead th {\n",
       "        text-align: right;\n",
       "    }\n",
       "</style>\n",
       "<table border=\"1\" class=\"dataframe\">\n",
       "  <thead>\n",
       "    <tr style=\"text-align: right;\">\n",
       "      <th></th>\n",
       "      <th>id</th>\n",
       "      <th>host_id</th>\n",
       "      <th>neighbourhood_group</th>\n",
       "      <th>latitude</th>\n",
       "      <th>longitude</th>\n",
       "      <th>price</th>\n",
       "      <th>minimum_nights</th>\n",
       "      <th>number_of_reviews</th>\n",
       "      <th>reviews_per_month</th>\n",
       "      <th>calculated_host_listings_count</th>\n",
       "      <th>availability_365</th>\n",
       "    </tr>\n",
       "  </thead>\n",
       "  <tbody>\n",
       "    <tr>\n",
       "      <th>count</th>\n",
       "      <td>7.072000e+03</td>\n",
       "      <td>7.072000e+03</td>\n",
       "      <td>0.0</td>\n",
       "      <td>7072.000000</td>\n",
       "      <td>7072.000000</td>\n",
       "      <td>7072.000000</td>\n",
       "      <td>7.072000e+03</td>\n",
       "      <td>7072.000000</td>\n",
       "      <td>5744.000000</td>\n",
       "      <td>7072.000000</td>\n",
       "      <td>7072.000000</td>\n",
       "    </tr>\n",
       "    <tr>\n",
       "      <th>mean</th>\n",
       "      <td>1.552127e+07</td>\n",
       "      <td>4.230561e+07</td>\n",
       "      <td>NaN</td>\n",
       "      <td>37.765950</td>\n",
       "      <td>-122.430704</td>\n",
       "      <td>212.993920</td>\n",
       "      <td>1.415635e+04</td>\n",
       "      <td>43.247031</td>\n",
       "      <td>1.932739</td>\n",
       "      <td>16.400170</td>\n",
       "      <td>164.262585</td>\n",
       "    </tr>\n",
       "    <tr>\n",
       "      <th>std</th>\n",
       "      <td>9.777300e+06</td>\n",
       "      <td>5.855621e+07</td>\n",
       "      <td>NaN</td>\n",
       "      <td>0.022484</td>\n",
       "      <td>0.026684</td>\n",
       "      <td>333.335336</td>\n",
       "      <td>1.189129e+06</td>\n",
       "      <td>71.176549</td>\n",
       "      <td>2.038795</td>\n",
       "      <td>38.669876</td>\n",
       "      <td>133.190595</td>\n",
       "    </tr>\n",
       "    <tr>\n",
       "      <th>min</th>\n",
       "      <td>9.580000e+02</td>\n",
       "      <td>4.600000e+01</td>\n",
       "      <td>NaN</td>\n",
       "      <td>37.705088</td>\n",
       "      <td>-122.513065</td>\n",
       "      <td>0.000000</td>\n",
       "      <td>1.000000e+00</td>\n",
       "      <td>0.000000</td>\n",
       "      <td>0.010000</td>\n",
       "      <td>1.000000</td>\n",
       "      <td>0.000000</td>\n",
       "    </tr>\n",
       "    <tr>\n",
       "      <th>25%</th>\n",
       "      <td>6.329633e+06</td>\n",
       "      <td>3.503605e+06</td>\n",
       "      <td>NaN</td>\n",
       "      <td>37.751316</td>\n",
       "      <td>-122.443053</td>\n",
       "      <td>100.000000</td>\n",
       "      <td>2.000000e+00</td>\n",
       "      <td>1.000000</td>\n",
       "      <td>0.357500</td>\n",
       "      <td>1.000000</td>\n",
       "      <td>40.000000</td>\n",
       "    </tr>\n",
       "    <tr>\n",
       "      <th>50%</th>\n",
       "      <td>1.672918e+07</td>\n",
       "      <td>1.305933e+07</td>\n",
       "      <td>NaN</td>\n",
       "      <td>37.767871</td>\n",
       "      <td>-122.425435</td>\n",
       "      <td>150.000000</td>\n",
       "      <td>4.000000e+00</td>\n",
       "      <td>12.000000</td>\n",
       "      <td>1.140000</td>\n",
       "      <td>2.000000</td>\n",
       "      <td>137.000000</td>\n",
       "    </tr>\n",
       "    <tr>\n",
       "      <th>75%</th>\n",
       "      <td>2.386414e+07</td>\n",
       "      <td>5.168075e+07</td>\n",
       "      <td>NaN</td>\n",
       "      <td>37.784606</td>\n",
       "      <td>-122.411558</td>\n",
       "      <td>232.250000</td>\n",
       "      <td>3.000000e+01</td>\n",
       "      <td>54.000000</td>\n",
       "      <td>2.920000</td>\n",
       "      <td>5.000000</td>\n",
       "      <td>308.000000</td>\n",
       "    </tr>\n",
       "    <tr>\n",
       "      <th>max</th>\n",
       "      <td>3.055228e+07</td>\n",
       "      <td>2.290928e+08</td>\n",
       "      <td>NaN</td>\n",
       "      <td>37.810306</td>\n",
       "      <td>-122.370428</td>\n",
       "      <td>9999.000000</td>\n",
       "      <td>1.000000e+08</td>\n",
       "      <td>649.000000</td>\n",
       "      <td>12.000000</td>\n",
       "      <td>186.000000</td>\n",
       "      <td>365.000000</td>\n",
       "    </tr>\n",
       "  </tbody>\n",
       "</table>\n",
       "</div>"
      ],
      "text/plain": [
       "                 id       host_id  neighbourhood_group     latitude  \\\n",
       "count  7.072000e+03  7.072000e+03                  0.0  7072.000000   \n",
       "mean   1.552127e+07  4.230561e+07                  NaN    37.765950   \n",
       "std    9.777300e+06  5.855621e+07                  NaN     0.022484   \n",
       "min    9.580000e+02  4.600000e+01                  NaN    37.705088   \n",
       "25%    6.329633e+06  3.503605e+06                  NaN    37.751316   \n",
       "50%    1.672918e+07  1.305933e+07                  NaN    37.767871   \n",
       "75%    2.386414e+07  5.168075e+07                  NaN    37.784606   \n",
       "max    3.055228e+07  2.290928e+08                  NaN    37.810306   \n",
       "\n",
       "         longitude        price  minimum_nights  number_of_reviews  \\\n",
       "count  7072.000000  7072.000000    7.072000e+03        7072.000000   \n",
       "mean   -122.430704   212.993920    1.415635e+04          43.247031   \n",
       "std       0.026684   333.335336    1.189129e+06          71.176549   \n",
       "min    -122.513065     0.000000    1.000000e+00           0.000000   \n",
       "25%    -122.443053   100.000000    2.000000e+00           1.000000   \n",
       "50%    -122.425435   150.000000    4.000000e+00          12.000000   \n",
       "75%    -122.411558   232.250000    3.000000e+01          54.000000   \n",
       "max    -122.370428  9999.000000    1.000000e+08         649.000000   \n",
       "\n",
       "       reviews_per_month  calculated_host_listings_count  availability_365  \n",
       "count        5744.000000                     7072.000000       7072.000000  \n",
       "mean            1.932739                       16.400170        164.262585  \n",
       "std             2.038795                       38.669876        133.190595  \n",
       "min             0.010000                        1.000000          0.000000  \n",
       "25%             0.357500                        1.000000         40.000000  \n",
       "50%             1.140000                        2.000000        137.000000  \n",
       "75%             2.920000                        5.000000        308.000000  \n",
       "max            12.000000                      186.000000        365.000000  "
      ]
     },
     "execution_count": 47,
     "metadata": {},
     "output_type": "execute_result"
    }
   ],
   "source": [
    "data.describe()"
   ]
  },
  {
   "cell_type": "code",
   "execution_count": 48,
   "id": "6ecd7af5",
   "metadata": {
    "ExecuteTime": {
     "end_time": "2021-10-23T17:54:30.332766Z",
     "start_time": "2021-10-23T17:54:30.311779Z"
    }
   },
   "outputs": [
    {
     "data": {
      "text/plain": [
       "212.99391968325793"
      ]
     },
     "execution_count": 48,
     "metadata": {},
     "output_type": "execute_result"
    }
   ],
   "source": [
    "data['price'].mean()"
   ]
  },
  {
   "cell_type": "code",
   "execution_count": 54,
   "id": "3888f1f8",
   "metadata": {
    "ExecuteTime": {
     "end_time": "2021-10-23T18:29:20.185008Z",
     "start_time": "2021-10-23T18:29:20.161022Z"
    }
   },
   "outputs": [],
   "source": [
    "dt = {i : np.random.randn() for i in range(7)}"
   ]
  },
  {
   "cell_type": "code",
   "execution_count": 55,
   "id": "722fec3c",
   "metadata": {
    "ExecuteTime": {
     "end_time": "2021-10-23T18:29:25.648649Z",
     "start_time": "2021-10-23T18:29:25.616668Z"
    }
   },
   "outputs": [
    {
     "data": {
      "text/plain": [
       "{0: 1.6470280216398652,\n",
       " 1: -0.4502573227616816,\n",
       " 2: -1.8336077853015644,\n",
       " 3: -1.0570639740909031,\n",
       " 4: -2.0523043030192225,\n",
       " 5: -1.060009490012821,\n",
       " 6: 1.308264453813836}"
      ]
     },
     "execution_count": 55,
     "metadata": {},
     "output_type": "execute_result"
    }
   ],
   "source": [
    "dt"
   ]
  },
  {
   "cell_type": "code",
   "execution_count": 67,
   "id": "458952ee",
   "metadata": {
    "ExecuteTime": {
     "end_time": "2021-10-23T18:41:12.302715Z",
     "start_time": "2021-10-23T18:41:12.275733Z"
    }
   },
   "outputs": [],
   "source": [
    "%pwd\n",
    "import sys"
   ]
  },
  {
   "cell_type": "code",
   "execution_count": 64,
   "id": "5360afed",
   "metadata": {
    "ExecuteTime": {
     "end_time": "2021-10-23T18:40:20.936576Z",
     "start_time": "2021-10-23T18:40:20.926581Z"
    }
   },
   "outputs": [],
   "source": [
    "va=[1,2,3]\n"
   ]
  },
  {
   "cell_type": "code",
   "execution_count": 68,
   "id": "f29a08bc",
   "metadata": {
    "ExecuteTime": {
     "end_time": "2021-10-23T18:41:16.859482Z",
     "start_time": "2021-10-23T18:41:16.835495Z"
    }
   },
   "outputs": [
    {
     "name": "stdout",
     "output_type": "stream",
     "text": [
      "[1, 2, 3]\n"
     ]
    }
   ],
   "source": [
    "print(va , sep='', end='\\n', file=sys.stdout, flush=False)"
   ]
  },
  {
   "cell_type": "code",
   "execution_count": 69,
   "id": "24baac3d",
   "metadata": {
    "ExecuteTime": {
     "end_time": "2021-10-23T18:42:47.723691Z",
     "start_time": "2021-10-23T18:42:47.699706Z"
    }
   },
   "outputs": [],
   "source": [
    "def add_numbers(a,b):\n",
    "    soma = a+b\n",
    "    return soma\n"
   ]
  },
  {
   "cell_type": "code",
   "execution_count": 86,
   "id": "175fbe26",
   "metadata": {
    "ExecuteTime": {
     "end_time": "2021-10-23T19:03:44.208750Z",
     "start_time": "2021-10-23T19:03:37.287006Z"
    }
   },
   "outputs": [],
   "source": [
    "%matplotlib inline"
   ]
  },
  {
   "cell_type": "code",
   "execution_count": 87,
   "id": "131ee53c",
   "metadata": {
    "ExecuteTime": {
     "end_time": "2021-10-23T19:04:06.826055Z",
     "start_time": "2021-10-23T19:04:06.803064Z"
    }
   },
   "outputs": [],
   "source": [
    "import matplotlib.pyplot as plt\n"
   ]
  },
  {
   "cell_type": "code",
   "execution_count": 90,
   "id": "394103b9",
   "metadata": {
    "ExecuteTime": {
     "end_time": "2021-10-23T19:05:29.825063Z",
     "start_time": "2021-10-23T19:05:28.974586Z"
    }
   },
   "outputs": [
    {
     "data": {
      "image/png": "[encoded data removed]",
      "text/plain": [
       "<Figure size 432x288 with 1 Axes>"
      ]
     },
     "metadata": {
      "needs_background": "light"
     },
     "output_type": "display_data"
    }
   ],
   "source": [
    "plt.plot(data['price']);"
   ]
  },
  {
   "cell_type": "code",
   "execution_count": null,
   "id": "b84bc841",
   "metadata": {},
   "outputs": [],
   "source": []
  }
 ],
 "metadata": {
  "kernelspec": {
   "display_name": "Python 3",
   "language": "python",
   "name": "python3"
  },
  "language_info": {
   "codemirror_mode": {
    "name": "ipython",
    "version": 3
   },
   "file_extension": ".py",
   "mimetype": "text/x-python",
   "name": "python",
   "nbconvert_exporter": "python",
   "pygments_lexer": "ipython3",
   "version": "3.8.3"
  },
  "toc": {
   "base_numbering": 1,
   "nav_menu": {},
   "number_sections": true,
   "sideBar": true,
   "skip_h1_title": false,
   "title_cell": "Table of Contents",
   "title_sidebar": "Contents",
   "toc_cell": false,
   "toc_position": {},
   "toc_section_display": true,
   "toc_window_display": false
  }
 },
 "nbformat": 4,
 "nbformat_minor": 5
}
